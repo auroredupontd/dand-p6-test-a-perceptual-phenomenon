{
 "cells": [
  {
   "cell_type": "markdown",
   "metadata": {},
   "source": [
    "# Analyzing the Stroop Effect\n",
    "\n",
    "\n",
    "## Table of Contents\n",
    "- [Introduction](#intro)\n",
    "- [Question 1: Identify variables in the experiment](#variables)\n",
    "- [Question 2a: Establish hypotheses](#hypotheses)\n",
    "- [Question 2b: Establish a statistical test](#statistical-test)\n",
    "- [Question 3: Report descriptive statistics](#descriptive-statistics)\n",
    "- [Question 4: Plot the data](#plots)\n",
    "- [Question 5: Perform the statistical test and interpret the results](#interpretation)\n",
    "- [Question 6: Digging deeper and extending the investigation](#optional)\n",
    "\n",
    "\n",
    "<a id='intro'></a>\n",
    "### Introduction\n",
    "\n",
    "In a Stroop task, participants are presented with a list of words, with each word displayed in a color of ink. The participant’s task is to say out loud the color of the ink in which the word is printed. The task has two conditions: a congruent words condition, and an incongruent words condition. In the congruent words condition, the words being displayed are color words whose names match the colors in which they are printed: for example <font color='red'>RED</font>, <font color='blue'>BLUE</font>. In the incongruent words condition, the words displayed are color words whose names do not match the colors in which they are printed: for example <font color='green'>PURPLE</font>, <font color='purple'>ORANGE</font>. In each case, we measure the time it takes to name the ink colors in equally-sized lists. Each participant will go through and record a time from each condition.\n",
    "\n",
    "<a id='variables'></a>\n",
    "### Part I - Identify variables"
   ]
  },
  {
   "cell_type": "markdown",
   "metadata": {},
   "source": [
    "**Independent variable**: This is the colors of the words.\n",
    "<br>**Dependent variable**: This is the reaction time."
   ]
  },
  {
   "cell_type": "markdown",
   "metadata": {},
   "source": [
    "<a id='hypotheses'></a>\n",
    "<a id='statistical-test'></a>\n",
    "### Part II - Establish hypotheses and statistical test"
   ]
  },
  {
   "cell_type": "markdown",
   "metadata": {},
   "source": [
    "</br>\n",
    "**Null Hypothesis** (**$H_{0}$**): **$x̄_{c}$** $\\ge$ **$x̄_{i}$** <br>\n",
    "<br>*==> The reaction time for both conditions is equal or fewer, meaning the color mismatch has no impact on the reaction time. *\n",
    "\n",
    "**Alternative Hypothesis** (**$H_{1}$**): **$x̄_{c}$** < **$x̄_{i}$** <br>\n",
    "<br>*==> The reaction time is greater for the incongruent words condition.*\n",
    "\n",
    "**$x̄_{c}$**: sample mean of the congruent data.<br>\n",
    "**$x̄_{i}$**: sample mean of the incongruent data.<br>\n",
    "\n",
    "The comparison of the mean is chosen as we look for the difference between the mean of variables. Also, the best statistical test in this case is the Paired T-test as we test for the difference between two related variables.\n",
    "In addition, our sample has a size below 30 and an unknown population standard deviation.<br>"
   ]
  },
  {
   "cell_type": "markdown",
   "metadata": {},
   "source": [
    "<a id='descriptive-statistics'></a>\n",
    "### Part III - Descriptive Statistics"
   ]
  },
  {
   "cell_type": "code",
   "execution_count": 78,
   "metadata": {
    "collapsed": true
   },
   "outputs": [],
   "source": [
    "# To get started, let's import the libraries.\n",
    "\n",
    "import pandas as pd\n",
    "import numpy as np\n",
    "import random\n",
    "import matplotlib as mpl\n",
    "import matplotlib.pyplot as plt\n",
    "import seaborn as sns\n",
    "import scipy.stats as stats\n",
    "%matplotlib inline\n",
    "sns.set_style(style=\"darkgrid\")"
   ]
  },
  {
   "cell_type": "code",
   "execution_count": 79,
   "metadata": {},
   "outputs": [
    {
     "data": {
      "text/plain": [
       "<matplotlib.axes._subplots.AxesSubplot at 0x1a21054e80>"
      ]
     },
     "execution_count": 79,
     "metadata": {},
     "output_type": "execute_result"
    },
    {
     "data": {
      "image/png": "[encoded data removed]",
      "text/plain": [
       "<matplotlib.figure.Figure at 0x1a21506908>"
      ]
     },
     "metadata": {},
     "output_type": "display_data"
    }
   ],
   "source": [
    "# Read in the data\n",
    "df = pd.read_csv('stroopdata.csv')\n",
    "\n",
    "# Set columns to lists to use in ttest function\n",
    "cong = df['Congruent'].values.tolist()\n",
    "incong = df['Incongruent'].values.tolist()\n",
    "\n",
    "# Plot the means \n",
    "df.mean().plot('bar')\n"
   ]
  },
  {
   "cell_type": "code",
   "execution_count": 80,
   "metadata": {},
   "outputs": [
    {
     "data": {
      "text/plain": [
       "Congruent      14.3565\n",
       "Incongruent    21.0175\n",
       "dtype: float64"
      ]
     },
     "execution_count": 80,
     "metadata": {},
     "output_type": "execute_result"
    }
   ],
   "source": [
    "df.median()"
   ]
  },
  {
   "cell_type": "code",
   "execution_count": 81,
   "metadata": {},
   "outputs": [
    {
     "data": {
      "text/html": [
       "<div>\n",
       "<style>\n",
       "    .dataframe thead tr:only-child th {\n",
       "        text-align: right;\n",
       "    }\n",
       "\n",
       "    .dataframe thead th {\n",
       "        text-align: left;\n",
       "    }\n",
       "\n",
       "    .dataframe tbody tr th {\n",
       "        vertical-align: top;\n",
       "    }\n",
       "</style>\n",
       "<table border=\"1\" class=\"dataframe\">\n",
       "  <thead>\n",
       "    <tr style=\"text-align: right;\">\n",
       "      <th></th>\n",
       "      <th>Congruent</th>\n",
       "      <th>Incongruent</th>\n",
       "    </tr>\n",
       "  </thead>\n",
       "  <tbody>\n",
       "    <tr>\n",
       "      <th>count</th>\n",
       "      <td>24.000000</td>\n",
       "      <td>24.000000</td>\n",
       "    </tr>\n",
       "    <tr>\n",
       "      <th>mean</th>\n",
       "      <td>14.051125</td>\n",
       "      <td>22.015917</td>\n",
       "    </tr>\n",
       "    <tr>\n",
       "      <th>std</th>\n",
       "      <td>3.559358</td>\n",
       "      <td>4.797057</td>\n",
       "    </tr>\n",
       "    <tr>\n",
       "      <th>min</th>\n",
       "      <td>8.630000</td>\n",
       "      <td>15.687000</td>\n",
       "    </tr>\n",
       "    <tr>\n",
       "      <th>25%</th>\n",
       "      <td>11.895250</td>\n",
       "      <td>18.716750</td>\n",
       "    </tr>\n",
       "    <tr>\n",
       "      <th>50%</th>\n",
       "      <td>14.356500</td>\n",
       "      <td>21.017500</td>\n",
       "    </tr>\n",
       "    <tr>\n",
       "      <th>75%</th>\n",
       "      <td>16.200750</td>\n",
       "      <td>24.051500</td>\n",
       "    </tr>\n",
       "    <tr>\n",
       "      <th>max</th>\n",
       "      <td>22.328000</td>\n",
       "      <td>35.255000</td>\n",
       "    </tr>\n",
       "  </tbody>\n",
       "</table>\n",
       "</div>"
      ],
      "text/plain": [
       "       Congruent  Incongruent\n",
       "count  24.000000    24.000000\n",
       "mean   14.051125    22.015917\n",
       "std     3.559358     4.797057\n",
       "min     8.630000    15.687000\n",
       "25%    11.895250    18.716750\n",
       "50%    14.356500    21.017500\n",
       "75%    16.200750    24.051500\n",
       "max    22.328000    35.255000"
      ]
     },
     "execution_count": 81,
     "metadata": {},
     "output_type": "execute_result"
    }
   ],
   "source": [
    "df.describe()"
   ]
  },
  {
   "cell_type": "code",
   "execution_count": 82,
   "metadata": {},
   "outputs": [
    {
     "data": {
      "text/plain": [
       "array([[<matplotlib.axes._subplots.AxesSubplot object at 0x1a2056f5c0>,\n",
       "        <matplotlib.axes._subplots.AxesSubplot object at 0x1a20fc47f0>]], dtype=object)"
      ]
     },
     "execution_count": 82,
     "metadata": {},
     "output_type": "execute_result"
    },
    {
     "data": {
      "image/png": "[encoded data removed]",
      "text/plain": [
       "<matplotlib.figure.Figure at 0x1a207eba20>"
      ]
     },
     "metadata": {},
     "output_type": "display_data"
    }
   ],
   "source": [
    "df.hist()"
   ]
  },
  {
   "cell_type": "markdown",
   "metadata": {},
   "source": [
    "Here are two measures of central tendency and one measure of variability:\n",
    "\n",
    "#### Congruent \n",
    "Mean: 14.05<br>\n",
    "Median: 14.36<br>\n",
    "Standard Deviation: 3.60<br>\n",
    "\n",
    "#### Congruent \n",
    "Mean: 22.01<br>\n",
    "Median: 21.02<br>\n",
    "Standard Deviation: 4.80"
   ]
  },
  {
   "cell_type": "markdown",
   "metadata": {},
   "source": [
    "<a id='plots'></a>\n",
    "### Part IV - Plots"
   ]
  },
  {
   "cell_type": "code",
   "execution_count": 83,
   "metadata": {},
   "outputs": [
    {
     "data": {
      "image/png": "[encoded data removed]",
      "text/plain": [
       "<matplotlib.figure.Figure at 0x1a2113b2e8>"
      ]
     },
     "metadata": {},
     "output_type": "display_data"
    }
   ],
   "source": [
    "# Plot the chart\n",
    "N = len(df.index)\n",
    "congruent = df['Congruent']\n",
    "incongruent = df['Incongruent']\n",
    "\n",
    "ind = np.arange(N)  # the x locations\n",
    "width = 0.50       # the width of the bars\n",
    "\n",
    "fig, ax = plt.subplots()\n",
    "rects1 = ax.bar(ind, congruent, width, color='r', alpha=0.5)\n",
    "rects2 = ax.bar(ind, incongruent, width, color='y', alpha=0.5)\n",
    "\n",
    "# Turns off grid on the left Axis.\n",
    "ax.grid(False)\n",
    "\n",
    "# Set background color\n",
    "ax.set_facecolor(\"white\")\n",
    "\n",
    "# Add some text for labels, title and axes ticks\n",
    "ax.set_ylabel('Time')\n",
    "ax.set_xlabel('Participants')\n",
    "ax.set_title('Congruent VS Incongruent Conditions')\n",
    "ax.legend((rects1[0], rects2[0]), ('Congruent', 'Incongruent'))\n",
    "plt.show()"
   ]
  },
  {
   "cell_type": "markdown",
   "metadata": {},
   "source": [
    "This chart allows us to see the congruent data versus the incongruent ones. As expected, it takes more time for the participant to say the word in a different color out loud."
   ]
  },
  {
   "cell_type": "code",
   "execution_count": 84,
   "metadata": {},
   "outputs": [
    {
     "data": {
      "image/png": "[encoded data removed]",
      "text/plain": [
       "<matplotlib.figure.Figure at 0x1a211370b8>"
      ]
     },
     "metadata": {},
     "output_type": "display_data"
    }
   ],
   "source": [
    "# Plot a second chart\n",
    "title = 'Congruent vs Incongruent Conditions'\n",
    "kind = 'box'\n",
    "ax = df.plot(title=title, kind=kind)\n",
    "\n",
    "# Turns off grid on the left Axis.\n",
    "ax.grid(False)\n",
    "\n",
    "# Set background color\n",
    "ax.set_facecolor(\"white\")\n",
    "\n",
    "ylabel = plt.ylabel('Time (seconds)')\n"
   ]
  },
  {
   "cell_type": "markdown",
   "metadata": {},
   "source": [
    "As seen before, the mean of the incongruent data is greater than the congruent one."
   ]
  },
  {
   "cell_type": "markdown",
   "metadata": {},
   "source": [
    "<a id='interpretation'></a>\n",
    "### Part V - Statistical Test & Results"
   ]
  },
  {
   "cell_type": "code",
   "execution_count": 85,
   "metadata": {},
   "outputs": [
    {
     "name": "stdout",
     "output_type": "stream",
     "text": [
      "    Congruent  Incongruent  Difference\n",
      "0      12.079       19.278      -7.199\n",
      "1      16.791       18.741      -1.950\n",
      "2       9.564       21.214     -11.650\n",
      "3       8.630       15.687      -7.057\n",
      "4      14.669       22.803      -8.134\n",
      "5      12.238       20.878      -8.640\n",
      "6      14.692       24.572      -9.880\n",
      "7       8.987       17.394      -8.407\n",
      "8       9.401       20.762     -11.361\n",
      "9      14.480       26.282     -11.802\n",
      "10     22.328       24.524      -2.196\n",
      "11     15.298       18.644      -3.346\n",
      "12     15.073       17.510      -2.437\n",
      "13     16.929       20.330      -3.401\n",
      "14     18.200       35.255     -17.055\n",
      "15     12.130       22.158     -10.028\n",
      "16     18.495       25.139      -6.644\n",
      "17     10.639       20.429      -9.790\n",
      "18     11.344       17.425      -6.081\n",
      "19     12.369       34.288     -21.919\n",
      "20     12.944       23.894     -10.950\n",
      "21     14.233       17.960      -3.727\n",
      "22     19.710       22.058      -2.348\n",
      "23     16.004       21.157      -5.153\n"
     ]
    }
   ],
   "source": [
    "# Create a new column\n",
    "df['Difference'] = df['Congruent'] - df['Incongruent']\n",
    "print(df)"
   ]
  },
  {
   "cell_type": "code",
   "execution_count": 86,
   "metadata": {
    "scrolled": true
   },
   "outputs": [
    {
     "data": {
      "text/html": [
       "<div>\n",
       "<style>\n",
       "    .dataframe thead tr:only-child th {\n",
       "        text-align: right;\n",
       "    }\n",
       "\n",
       "    .dataframe thead th {\n",
       "        text-align: left;\n",
       "    }\n",
       "\n",
       "    .dataframe tbody tr th {\n",
       "        vertical-align: top;\n",
       "    }\n",
       "</style>\n",
       "<table border=\"1\" class=\"dataframe\">\n",
       "  <thead>\n",
       "    <tr style=\"text-align: right;\">\n",
       "      <th></th>\n",
       "      <th>Congruent</th>\n",
       "      <th>Incongruent</th>\n",
       "      <th>Difference</th>\n",
       "    </tr>\n",
       "  </thead>\n",
       "  <tbody>\n",
       "    <tr>\n",
       "      <th>count</th>\n",
       "      <td>24.000000</td>\n",
       "      <td>24.000000</td>\n",
       "      <td>24.000000</td>\n",
       "    </tr>\n",
       "    <tr>\n",
       "      <th>mean</th>\n",
       "      <td>14.051125</td>\n",
       "      <td>22.015917</td>\n",
       "      <td>-7.964792</td>\n",
       "    </tr>\n",
       "    <tr>\n",
       "      <th>std</th>\n",
       "      <td>3.559358</td>\n",
       "      <td>4.797057</td>\n",
       "      <td>4.864827</td>\n",
       "    </tr>\n",
       "    <tr>\n",
       "      <th>min</th>\n",
       "      <td>8.630000</td>\n",
       "      <td>15.687000</td>\n",
       "      <td>-21.919000</td>\n",
       "    </tr>\n",
       "    <tr>\n",
       "      <th>25%</th>\n",
       "      <td>11.895250</td>\n",
       "      <td>18.716750</td>\n",
       "      <td>-10.258500</td>\n",
       "    </tr>\n",
       "    <tr>\n",
       "      <th>50%</th>\n",
       "      <td>14.356500</td>\n",
       "      <td>21.017500</td>\n",
       "      <td>-7.666500</td>\n",
       "    </tr>\n",
       "    <tr>\n",
       "      <th>75%</th>\n",
       "      <td>16.200750</td>\n",
       "      <td>24.051500</td>\n",
       "      <td>-3.645500</td>\n",
       "    </tr>\n",
       "    <tr>\n",
       "      <th>max</th>\n",
       "      <td>22.328000</td>\n",
       "      <td>35.255000</td>\n",
       "      <td>-1.950000</td>\n",
       "    </tr>\n",
       "  </tbody>\n",
       "</table>\n",
       "</div>"
      ],
      "text/plain": [
       "       Congruent  Incongruent  Difference\n",
       "count  24.000000    24.000000   24.000000\n",
       "mean   14.051125    22.015917   -7.964792\n",
       "std     3.559358     4.797057    4.864827\n",
       "min     8.630000    15.687000  -21.919000\n",
       "25%    11.895250    18.716750  -10.258500\n",
       "50%    14.356500    21.017500   -7.666500\n",
       "75%    16.200750    24.051500   -3.645500\n",
       "max    22.328000    35.255000   -1.950000"
      ]
     },
     "execution_count": 86,
     "metadata": {},
     "output_type": "execute_result"
    }
   ],
   "source": [
    "df.describe()"
   ]
  },
  {
   "cell_type": "code",
   "execution_count": 87,
   "metadata": {
    "scrolled": true
   },
   "outputs": [
    {
     "name": "stdout",
     "output_type": "stream",
     "text": [
      "T-statistic is -8.0207\n",
      "P-value is 4.1e-08\n"
     ]
    }
   ],
   "source": [
    "# Perform ttest\n",
    "Tstat, Pvalue = stats.ttest_rel(cong,incong)\n",
    "\n",
    "print ('T-statistic is', round(Tstat, 4))\n",
    "print ('P-value is', round(Pvalue,10))"
   ]
  },
  {
   "cell_type": "markdown",
   "metadata": {},
   "source": [
    "The confidence level is 99%.<br>\n",
    "*Formula is: Standard Deviation of the mean difference / √n*\n",
    "\n",
    "Because we stated an hypothesis with an equal sign, this is a two-tailed test.\n",
    "Thus, the critical statistic value is 2.807 based on the t distribution table.\n",
    "α = 0.01\n",
    "\n",
    "The T-statistic is -8.02 as given above.\n",
    "The P-value is 0.000000041."
   ]
  },
  {
   "cell_type": "markdown",
   "metadata": {},
   "source": [
    "Due to the P-value, which is lower than our alpha data (0.01), and based on the T-statistic (-8.02) that is smaller than the critical statistic value (2.807) the null hypothesis is rejected. As a matter of fact, the participants need more time to identify the color during the incongruent test. \n",
    "Finally, the result is as expected."
   ]
  },
  {
   "cell_type": "markdown",
   "metadata": {},
   "source": [
    "<a id='optional'></a>\n",
    "### Part VI - Final thoughts"
   ]
  },
  {
   "cell_type": "markdown",
   "metadata": {},
   "source": [
    "The participants need more concentration to say a word written in a color that is not the same than the word displayed. They need to focus on the word to recognize and make a distinction between the word and the ink color.\n",
    "Also, it can depends on the age, the gender and the material used (wood, paper...). We'd need more data to dig further and see if there's a correlation with the potential reasons mentioned above. In addition, it can also depend on whether the participant is a native english speaker or not.\n",
    "\n",
    "\n",
    "As for an alternative or similar task that would result in a similar effect, there is the [Colored Numbers Test](https://www.tandfonline.com/doi/abs/10.1080/13854040601186964?journalCode=ntcn20) but also the [Ishihara Test](https://en.wikipedia.org/wiki/Ishihara_test). In addition, [shapes](https://powersthatbeat.wordpress.com/2012/09/16/what-are-the-different-tests-for-the-stroop-effect-autismaid/) can be used, instead of using a list of words in specific colors."
   ]
  },
  {
   "cell_type": "markdown",
   "metadata": {},
   "source": [
    "**Resources**\n",
    "* https://cyfar.org/types-statistical-tests\n",
    "* http://www.statisticshowto.com/probability-and-statistics/t-test/\n",
    "* http://www.statisticshowto.com/probability-and-statistics/confidence-interval/\n",
    "* http://www.statisticshowto.com/probability-and-statistics/hypothesis-testing/t-score-vs-z-score/\n",
    "* https://www.mathsisfun.com/data/confidence-interval-calculator.html\n",
    "* https://www.mathsisfun.com/data/confidence-interval.html\n",
    "* https://matplotlib.org/examples/api/barchart_demo.html\n",
    "* https://datascienceplus.com/standard-deviation-vs-standard-error/\n",
    "* http://www.statisticshowto.com/one-tailed-test-or-two/\n",
    "* http://www.statisticshowto.com/t-critical-value/\n",
    "* http://www.statisticshowto.com/tables/t-distribution-table/\n"
   ]
  },
  {
   "cell_type": "code",
   "execution_count": 88,
   "metadata": {},
   "outputs": [
    {
     "data": {
      "text/plain": [
       "0"
      ]
     },
     "execution_count": 88,
     "metadata": {},
     "output_type": "execute_result"
    }
   ],
   "source": [
    "from subprocess import call\n",
    "call(['python', '-m', 'nbconvert', 'Test_a_Perceptual_Phenomenon-The_Stroop_Effect-Final.ipynb'])"
   ]
  }
 ],
 "metadata": {
  "kernelspec": {
   "display_name": "Python 3",
   "language": "python",
   "name": "python3"
  },
  "language_info": {
   "codemirror_mode": {
    "name": "ipython",
    "version": 3
   },
   "file_extension": ".py",
   "mimetype": "text/x-python",
   "name": "python",
   "nbconvert_exporter": "python",
   "pygments_lexer": "ipython3",
   "version": "3.6.3"
  }
 },
 "nbformat": 4,
 "nbformat_minor": 2
}
